{
 "cells": [
  {
   "cell_type": "code",
   "execution_count": 82,
   "metadata": {},
   "outputs": [],
   "source": [
    "import os \n",
    "from fnmatch import fnmatch\n",
    "import shutil\n",
    "import random\n",
    "import numpy\n",
    "import pathlib\n",
    "\n",
    "root = r'/Users/abharw/Desktop/MURA-v1.1/train/XR_FOREARM'\n",
    "positive = r'/Users/abharw/Desktop/MURA-v1.1/positive'\n",
    "negative = r'/Users/abharw/Desktop/MURA-v1.1/negative'\n",
    " \n",
    "\n",
    "for path, subdirs, files in os.walk(root):\n",
    "    for name in files:\n",
    "        hsh = random.getrandbits(16)\n",
    "        complete_path = os.path.join(path, name)\n",
    "    \n",
    "        if 'positive' in complete_path: \n",
    "            shutil.move(complete_path, positive)\n",
    "            new_path = positive + '/' + str(hsh) + name\n",
    "            os.rename(positive + '/' + name, new_path)\n",
    "        if 'negative' in complete_path:\n",
    "            shutil.move(complete_path, negative)\n",
    "            new_path = negative + '/' + str(hsh) + name\n",
    "            os.rename(negative + '/' + name, new_path)"
   ]
  },
  {
   "cell_type": "code",
   "execution_count": 92,
   "metadata": {},
   "outputs": [],
   "source": [
    "import math \n",
    "\n",
    "total_pos = len(os.listdir('/Users/abharw/Desktop/MURA-v1.1/positive'))\n",
    "test_pos_count= math.floor(.3 * total_pos)\n",
    "\n",
    "test_pos = r'/Users/abharw/Desktop/MURA-v1.1/test_pos'\n",
    "\n",
    "pos_files = os.listdir(r'/Users/abharw/Desktop/MURA-v1.1/positive')\n",
    "for x in range(test_pos_count):\n",
    "    complete_path = positive + f'/{pos_files[x]}'\n",
    "    shutil.move(complete_path, test_pos)\n",
    "\n",
    "total_neg = len(os.listdir('/Users/abharw/Desktop/MURA-v1.1/negative'))\n",
    "test_neg_count = math.floor(.3 * total_neg)\n",
    "\n",
    "test_neg = r'/Users/abharw/Desktop/MURA-v1.1/test_neg'\n",
    "\n",
    "neg_files = os.listdir(r'/Users/abharw/Desktop/MURA-v1.1/negative')\n",
    "for x in range(test_neg_count):\n",
    "    complete_path = negative + f'/{neg_files[x]}'\n",
    "    shutil.move(complete_path, test_neg)"
   ]
  },
  {
   "cell_type": "code",
   "execution_count": null,
   "metadata": {},
   "outputs": [],
   "source": []
  },
  {
   "cell_type": "code",
   "execution_count": null,
   "metadata": {},
   "outputs": [],
   "source": []
  },
  {
   "cell_type": "code",
   "execution_count": null,
   "metadata": {},
   "outputs": [],
   "source": []
  },
  {
   "cell_type": "code",
   "execution_count": null,
   "metadata": {},
   "outputs": [],
   "source": []
  },
  {
   "cell_type": "code",
   "execution_count": null,
   "metadata": {},
   "outputs": [],
   "source": []
  },
  {
   "cell_type": "code",
   "execution_count": null,
   "metadata": {},
   "outputs": [],
   "source": []
  }
 ],
 "metadata": {
  "kernelspec": {
   "display_name": "Python 3",
   "language": "python",
   "name": "python3"
  },
  "language_info": {
   "codemirror_mode": {
    "name": "ipython",
    "version": 3
   },
   "file_extension": ".py",
   "mimetype": "text/x-python",
   "name": "python",
   "nbconvert_exporter": "python",
   "pygments_lexer": "ipython3",
   "version": "3.10.9"
  },
  "orig_nbformat": 4,
  "vscode": {
   "interpreter": {
    "hash": "b0fa6594d8f4cbf19f97940f81e996739fb7646882a419484c72d19e05852a7e"
   }
  }
 },
 "nbformat": 4,
 "nbformat_minor": 2
}
